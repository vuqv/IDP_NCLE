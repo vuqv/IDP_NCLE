{
 "cells": [
  {
   "cell_type": "code",
   "execution_count": 1,
   "id": "131688b1",
   "metadata": {},
   "outputs": [],
   "source": [
    "import numpy as np \n",
    "import pandas as pd\n",
    "import random\n",
    "from scipy import stats\n",
    "from ast import literal_eval\n",
    "import warnings\n",
    "warnings.filterwarnings('ignore')\n",
    "\n",
    "import networkx as nx\n",
    "import obonet\n",
    "\n",
    "from itertools import product"
   ]
  },
  {
   "cell_type": "code",
   "execution_count": 2,
   "id": "0afd347f",
   "metadata": {},
   "outputs": [],
   "source": [
    "def cliffs_delta(x, y):\n",
    "    \"\"\"\n",
    "    Compute Cliff's Delta effect size.\n",
    "    \"\"\"\n",
    "    x, y = np.array(x), np.array(y)\n",
    "    n_x, n_y = len(x), len(y)\n",
    "    \n",
    "    N_plus = sum(1 for a, b in product(x, y) if a > b)\n",
    "    N_minus = sum(1 for a, b in product(x, y) if a < b)\n",
    "    \n",
    "    delta = (N_plus - N_minus) / (n_x * n_y)\n",
    "\n",
    "    return delta#, interpretation\n",
    "\n",
    "def bootstrapping_effect_size(a, b, nsteps = 100000):\n",
    "    es_mean = cliffs_delta(a, b)\n",
    "    n1, n2 = len(a), len(b)\n",
    "    es_bootstrap = np.zeros(nsteps)\n",
    "    for i in range(nsteps):\n",
    "        a_random = np.random.choice(a, size=n1)\n",
    "        b_random = np.random.choice(b, size=n2)\n",
    "        cliff_b = cliffs_delta(a_random, b_random)\n",
    "        es_bootstrap[i] = cliff_b\n",
    "#         print(f\"{i}: {cliff_b:.4f}\")\n",
    "    es_lower = np.percentile(es_bootstrap, 2.5)\n",
    "    es_upper = np.percentile(es_bootstrap, 97.5)\n",
    "    es_se = np.std(es_bootstrap)\n",
    "    return es_mean, es_se, (es_lower, es_upper)\n",
    "    \n"
   ]
  },
  {
   "cell_type": "code",
   "execution_count": 3,
   "id": "fc16d8c2",
   "metadata": {},
   "outputs": [
    {
     "name": "stdout",
     "output_type": "stream",
     "text": [
      "Total number of GO term need to be analyzed: 91\n"
     ]
    }
   ],
   "source": [
    "# This is the dataset that excluded chain shorter than 100 residues\n",
    "df_idrome = pd.read_pickle('../IDRome_DB_reanalyzed_entanglement_N_ge_100.pkl')\n",
    "# This is the GO term associated to each uniprot downloaded from Uniprot. Need to update this\n",
    "uniprot2go_dict = dict(pd.read_pickle('uniprot_dict_Quyen_call.pkl'))\n",
    "df_GO = pd.DataFrame({'Uniprot': uniprot2go_dict.keys(), 'GO':uniprot2go_dict.values()})\n",
    "\n",
    "GO_dict = pd.Series(pd.read_pickle('uniprot_dict_Quyen_call.pkl')).to_frame(name='GO')\n",
    "# count number of occurance of each GO term in this dataset\n",
    "g,u = np.unique(GO_dict.loc[df_idrome.UniProt_ID].GO.sum(),return_counts=True)\n",
    "# only consider GO term apprear more than 200 times\n",
    "curated_GO_codes = g[u>=200]\n",
    "\n",
    "print(f\"Total number of GO term need to be analyzed: {len(curated_GO_codes)}\")"
   ]
  },
  {
   "cell_type": "code",
   "execution_count": 4,
   "id": "50a44a96",
   "metadata": {},
   "outputs": [],
   "source": [
    "url = 'http://purl.obolibrary.org/obo/go/go-basic.obo'\n",
    "graph = obonet.read_obo(url)\n",
    "\n",
    "id_to_name = {id_: data.get('name') for id_, data in graph.nodes(data=True)}\n",
    "name_to_id = {data['name']: id_ for id_, data in graph.nodes(data=True) if 'name' in data}"
   ]
  },
  {
   "cell_type": "code",
   "execution_count": 5,
   "id": "3126a996",
   "metadata": {},
   "outputs": [
    {
     "name": "stdout",
     "output_type": "stream",
     "text": [
      "GO:0003674 GO:0008150 GO:0005575\n"
     ]
    }
   ],
   "source": [
    "# extract molecular function, biological function and celluler component go term\n",
    "print(name_to_id['molecular_function'],name_to_id['biological_process'],name_to_id['cellular_component'])\n",
    "molfunc = list(nx.ancestors(graph, 'GO:0003674')) # all nodes connected to molecular function\n",
    "bioproc = list(nx.ancestors(graph, 'GO:0008150')) # all nodes connected to biological process\n",
    "cellcom = list(nx.ancestors(graph, 'GO:0005575')) # all nodes connected to cellular component"
   ]
  },
  {
   "cell_type": "code",
   "execution_count": 6,
   "id": "eeb00fd3",
   "metadata": {},
   "outputs": [],
   "source": [
    "molfunc_go_code = set(curated_GO_codes).intersection(set(molfunc))\n",
    "bioproc_go_code = set(curated_GO_codes).intersection(set(bioproc))\n",
    "cellcom_go_code = set(curated_GO_codes).intersection(set(cellcom))"
   ]
  },
  {
   "cell_type": "markdown",
   "id": "4121091b",
   "metadata": {},
   "source": [
    "# Molecular function"
   ]
  },
  {
   "cell_type": "markdown",
   "id": "6e73dfc9",
   "metadata": {},
   "source": [
    "Notes:\n",
    "- The Brunner Mulzel in Scipy calculate the statsistic (x, y) as <rankcy> - <rankcx>. If the statistic is negative number, indicate member in x is larger than y"
   ]
  },
  {
   "cell_type": "code",
   "execution_count": 7,
   "id": "12dc4959",
   "metadata": {},
   "outputs": [
    {
     "name": "stdout",
     "output_type": "stream",
     "text": [
      "GO:0000978:RNA polymerase II cis-regulatory region sequence-specific DNA binding, 0.000, stats: -3.988, effect size: 0.065+/-0.0000, (np.float64(0.06269040989296622), np.float64(0.06269040989296622))\n",
      "GO:0001227:DNA-binding transcription repressor activity, RNA polymerase II-specific, 0.021, stats: -2.688, effect size: 0.084+/-0.0000, (np.float64(0.06460698244237773), np.float64(0.06460698244237773))\n",
      "GO:0001228:DNA-binding transcription activator activity, RNA polymerase II-specific, 0.044, stats: -2.319, effect size: 0.058+/-0.0000, (np.float64(0.0687986585132991), np.float64(0.0687986585132991))\n",
      "GO:0003677:DNA binding, 0.014, stats: -2.873, effect size: 0.061+/-0.0000, (np.float64(0.06397026548980239), np.float64(0.06397026548980239))\n",
      "GO:0003682:chromatin binding, 0.006, stats: -3.188, effect size: 0.090+/-0.0000, (np.float64(0.11255976713191278), np.float64(0.11255976713191278))\n",
      "GO:0019899:enzyme binding, 0.035, stats: 2.464, effect size: -0.100+/-0.0000, (np.float64(-0.11396737191727024), np.float64(-0.11396737191727024))\n",
      "GO:0042802:identical protein binding, 0.000, stats: 4.364, effect size: -0.087+/-0.0000, (np.float64(-0.10244490611231932), np.float64(-0.10244490611231932))\n",
      "GO:0046872:metal ion binding, 0.000, stats: -5.634, effect size: 0.082+/-0.0000, (np.float64(0.07001983842881492), np.float64(0.07001983842881492))\n"
     ]
    }
   ],
   "source": [
    "\"\"\"\n",
    "Loop through all row of df_GO and check if any GO code of the current uniprot are in list of molecular function GO\n",
    "code, if yes, store in the tuple for grouping by GO code later.\n",
    "\"\"\"\n",
    "filtered_data = []\n",
    "\n",
    "for _, row in df_GO.iterrows():\n",
    "    for c in row['GO']:\n",
    "        if c in molfunc_go_code:\n",
    "            filtered_data.append((c, row['Uniprot']))\n",
    "\n",
    "df_result = (\n",
    "    pd.DataFrame(filtered_data, columns=[\"GO\", \"Uniprot\"])\n",
    "    .groupby(\"GO\")[\"Uniprot\"]\n",
    "    .apply(list)\n",
    "    .reset_index()\n",
    ")\n",
    "GO_terms = []\n",
    "ent_prob_GO_Yes = []\n",
    "ent_prob_GO_No = []\n",
    "GO_statistic = []\n",
    "effect_size = []\n",
    "effect_size_se = []\n",
    "effect_size_cis = []\n",
    "pvalue_go_term = []\n",
    "for _, row in df_result.iterrows():\n",
    "    go, uniprots = row['GO'], row['Uniprot']\n",
    "    \n",
    "    df_idrome_go = df_idrome.copy()\n",
    "    df_idrome_go['GO_term'] = df_idrome_go.UniProt_ID.apply(lambda x: True if x in uniprots else False)\n",
    "    # Extract all uniprot code that are associated with the current GO code, then look back in df_idrome dataframe\n",
    "    # to extract the entanglement probability, convert to list.\n",
    "    GO_Yes = np.array(df_idrome_go[df_idrome_go['GO_term']==True]['ent_prob'].to_list())\n",
    "    GO_No = np.array(df_idrome_go[df_idrome_go['GO_term']==False]['ent_prob'].to_list())\n",
    "    ent_prob_GO_Yes.append(GO_Yes)\n",
    "    ent_prob_GO_No.append(GO_No)\n",
    "\n",
    "    statistic, pvalues = stats.brunnermunzel(GO_Yes, GO_No, alternative='two-sided')\n",
    "    es_mean, es_se, es_ci = bootstrapping_effect_size(GO_Yes, GO_No, nsteps=1)\n",
    "    \n",
    "    GO_terms.append(go)\n",
    "    GO_statistic.append(statistic)\n",
    "    effect_size.append(es_mean)\n",
    "    effect_size_se.append(es_se)\n",
    "    effect_size_cis.append(es_ci)\n",
    "    pvalue_go_term.append(pvalues/2.0)\n",
    "\n",
    "df_BM_analysis = pd.DataFrame({'GO':GO_terms, 'ent_prob_GO_Yes': ent_prob_GO_Yes, 'ent_prob_GO_No':ent_prob_GO_No, 'effect_size': effect_size, 'effect_size_se': effect_size_se, 'effect_size_CI':effect_size_cis, 'stats':GO_statistic, 'pvalue':pvalue_go_term})\n",
    "df_BM_analysis['adj_pvalue'] = stats.false_discovery_control(df_BM_analysis['pvalue'])\n",
    "for _, row in df_BM_analysis[df_BM_analysis['adj_pvalue']<=0.05].iterrows():\n",
    "    print(f\"{row['GO']}:{id_to_name[row['GO']]}, {row['adj_pvalue']:.3f}, stats: {row['stats']:.3f}, effect size: {row['effect_size']:.3f}+/-{row['effect_size_se']:.4f}, {row['effect_size_CI']}\")\n",
    "    \n",
    "\n",
    "# save to pickle file\n",
    "df_BM_analysis.to_pickle('molfunc.pkl')"
   ]
  },
  {
   "cell_type": "markdown",
   "id": "30dfc553",
   "metadata": {},
   "source": [
    "# Biological Process"
   ]
  },
  {
   "cell_type": "code",
   "execution_count": 8,
   "id": "a97cf4e1",
   "metadata": {},
   "outputs": [
    {
     "name": "stdout",
     "output_type": "stream",
     "text": [
      "GO:0000122:negative regulation of transcription by RNA polymerase II, 0.015, stats: -2.793, effect size: 0.059+/-0.0000, (np.float64(0.07664788371114539), np.float64(0.07664788371114539))\n",
      "GO:0006357:regulation of transcription by RNA polymerase II, 0.005, stats: -3.432, effect size: 0.052+/-0.0000, (np.float64(0.050132653695822316), np.float64(0.050132653695822316))\n",
      "GO:0007155:cell adhesion, 0.037, stats: -2.416, effect size: 0.077+/-0.0000, (np.float64(0.08901359769841209), np.float64(0.08901359769841209))\n",
      "GO:0015031:protein transport, 0.005, stats: 3.349, effect size: -0.138+/-0.0000, (np.float64(-0.10695798655848453), np.float64(-0.10695798655848453))\n",
      "GO:0045893:positive regulation of DNA-templated transcription, 0.037, stats: -2.343, effect size: 0.059+/-0.0000, (np.float64(-0.006467042344395534), np.float64(-0.006467042344395534))\n",
      "GO:0045944:positive regulation of transcription by RNA polymerase II, 0.005, stats: -3.253, effect size: 0.062+/-0.0000, (np.float64(0.036798279098932865), np.float64(0.036798279098932865))\n"
     ]
    }
   ],
   "source": [
    "\"\"\"\n",
    "Loop through all row of df_GO and check if any GO code of the current uniprot are in list of molecular function GO\n",
    "code, if yes, store in the tuple for grouping by GO code later.\n",
    "\"\"\"\n",
    "filtered_data = []\n",
    "\n",
    "for _, row in df_GO.iterrows():\n",
    "    for c in row['GO']:\n",
    "        if c in bioproc_go_code:\n",
    "            filtered_data.append((c, row['Uniprot']))\n",
    "\n",
    "df_result = (\n",
    "    pd.DataFrame(filtered_data, columns=[\"GO\", \"Uniprot\"])\n",
    "    .groupby(\"GO\")[\"Uniprot\"]\n",
    "    .apply(list)\n",
    "    .reset_index()\n",
    ")\n",
    "GO_terms = []\n",
    "ent_prob_GO_Yes = []\n",
    "ent_prob_GO_No = []\n",
    "GO_statistic = []\n",
    "effect_size = []\n",
    "effect_size_se = []\n",
    "effect_size_cis = []\n",
    "pvalue_go_term = []\n",
    "for _, row in df_result.iterrows():\n",
    "    go, uniprots = row['GO'], row['Uniprot']\n",
    "    \n",
    "    df_idrome_go = df_idrome.copy()\n",
    "    df_idrome_go['GO_term'] = df_idrome_go.UniProt_ID.apply(lambda x: True if x in uniprots else False)\n",
    "    # Extract all uniprot code that are associated with the current GO code, then look back in df_idrome dataframe\n",
    "    # to extract the entanglement probability, convert to list.\n",
    "    GO_Yes = np.array(df_idrome_go[df_idrome_go['GO_term']==True]['ent_prob'].to_list())\n",
    "    GO_No = np.array(df_idrome_go[df_idrome_go['GO_term']==False]['ent_prob'].to_list())\n",
    "    ent_prob_GO_Yes.append(GO_Yes)\n",
    "    ent_prob_GO_No.append(GO_No)\n",
    "\n",
    "    statistic, pvalues = stats.brunnermunzel(GO_Yes, GO_No, alternative='two-sided')\n",
    "    es_mean, es_se, es_ci = bootstrapping_effect_size(GO_Yes, GO_No, nsteps=1)\n",
    "    \n",
    "    GO_terms.append(go)\n",
    "    GO_statistic.append(statistic)\n",
    "    effect_size.append(es_mean)\n",
    "    effect_size_se.append(es_se)\n",
    "    effect_size_cis.append(es_ci)\n",
    "    pvalue_go_term.append(pvalues/2.0)\n",
    "\n",
    "df_BM_analysis = pd.DataFrame({'GO':GO_terms, 'ent_prob_GO_Yes': ent_prob_GO_Yes, 'ent_prob_GO_No':ent_prob_GO_No, 'effect_size': effect_size, 'effect_size_se': effect_size_se, 'effect_size_CI':effect_size_cis, 'stats':GO_statistic, 'pvalue':pvalue_go_term})\n",
    "df_BM_analysis['adj_pvalue'] = stats.false_discovery_control(df_BM_analysis['pvalue'])\n",
    "for _, row in df_BM_analysis[df_BM_analysis['adj_pvalue']<=0.05].iterrows():\n",
    "    print(f\"{row['GO']}:{id_to_name[row['GO']]}, {row['adj_pvalue']:.3f}, stats: {row['stats']:.3f}, effect size: {row['effect_size']:.3f}+/-{row['effect_size_se']:.4f}, {row['effect_size_CI']}\")\n",
    "    \n",
    "\n",
    "# save to pickle file\n",
    "df_BM_analysis.to_pickle('bioproc.pkl')"
   ]
  },
  {
   "cell_type": "markdown",
   "id": "05caf975",
   "metadata": {},
   "source": [
    "# Cellular Compartment"
   ]
  },
  {
   "cell_type": "code",
   "execution_count": 9,
   "id": "a06f3fbb",
   "metadata": {},
   "outputs": [
    {
     "name": "stdout",
     "output_type": "stream",
     "text": [
      "GO:0000139:Golgi membrane, 0.000, stats: 4.156, effect size: -0.133+/-0.0000, (np.float64(-0.09954036781859983), np.float64(-0.09954036781859983))\n",
      "GO:0005576:extracellular region, 0.027, stats: 2.306, effect size: -0.051+/-0.0000, (np.float64(-0.05475560560309505), np.float64(-0.05475560560309505))\n",
      "GO:0005634:nucleus, 0.001, stats: -3.615, effect size: 0.041+/-0.0000, (np.float64(0.01939200030068759), np.float64(0.01939200030068759))\n",
      "GO:0005654:nucleoplasm, 0.009, stats: -2.771, effect size: 0.035+/-0.0000, (np.float64(0.03800663245497729), np.float64(0.03800663245497729))\n",
      "GO:0005739:mitochondrion, 0.000, stats: 3.954, effect size: -0.112+/-0.0000, (np.float64(-0.1612942871068763), np.float64(-0.1612942871068763))\n",
      "GO:0005783:endoplasmic reticulum, 0.000, stats: 4.239, effect size: -0.118+/-0.0000, (np.float64(-0.16866661709392175), np.float64(-0.16866661709392175))\n",
      "GO:0005789:endoplasmic reticulum membrane, 0.030, stats: 2.240, effect size: -0.063+/-0.0000, (np.float64(-0.07939719418889567), np.float64(-0.07939719418889567))\n",
      "GO:0005794:Golgi apparatus, 0.000, stats: 4.014, effect size: -0.100+/-0.0000, (np.float64(-0.0477680682176622), np.float64(-0.0477680682176622))\n",
      "GO:0014069:postsynaptic density, 0.022, stats: -2.424, effect size: 0.099+/-0.0000, (np.float64(0.10046432743189934), np.float64(0.10046432743189934))\n",
      "GO:0016020:membrane, 0.001, stats: 3.508, effect size: -0.053+/-0.0000, (np.float64(-0.05684403987639222), np.float64(-0.05684403987639222))\n",
      "GO:0016607:nuclear speck, 0.006, stats: -2.976, effect size: 0.096+/-0.0000, (np.float64(0.025109270237942433), np.float64(0.025109270237942433))\n",
      "GO:0032991:protein-containing complex, 0.004, stats: 3.123, effect size: -0.088+/-0.0000, (np.float64(-0.09211667708739163), np.float64(-0.09211667708739163))\n",
      "GO:0048471:perinuclear region of cytoplasm, 0.006, stats: 3.011, effect size: -0.085+/-0.0000, (np.float64(-0.09224606824740725), np.float64(-0.09224606824740725))\n",
      "GO:0070062:extracellular exosome, 0.018, stats: 2.511, effect size: -0.055+/-0.0000, (np.float64(-0.06882020822427151), np.float64(-0.06882020822427151))\n"
     ]
    }
   ],
   "source": [
    "\"\"\"\n",
    "Loop through all row of df_GO and check if any GO code of the current uniprot are in list of molecular function GO\n",
    "code, if yes, store in the tuple for grouping by GO code later.\n",
    "\"\"\"\n",
    "filtered_data = []\n",
    "\n",
    "for _, row in df_GO.iterrows():\n",
    "    for c in row['GO']:\n",
    "        if c in cellcom_go_code:\n",
    "            filtered_data.append((c, row['Uniprot']))\n",
    "\n",
    "df_result = (\n",
    "    pd.DataFrame(filtered_data, columns=[\"GO\", \"Uniprot\"])\n",
    "    .groupby(\"GO\")[\"Uniprot\"]\n",
    "    .apply(list)\n",
    "    .reset_index()\n",
    ")\n",
    "GO_terms = []\n",
    "ent_prob_GO_Yes = []\n",
    "ent_prob_GO_No = []\n",
    "GO_statistic = []\n",
    "effect_size = []\n",
    "effect_size_se = []\n",
    "effect_size_cis = []\n",
    "pvalue_go_term = []\n",
    "for _, row in df_result.iterrows():\n",
    "    go, uniprots = row['GO'], row['Uniprot']\n",
    "    \n",
    "    df_idrome_go = df_idrome.copy()\n",
    "    df_idrome_go['GO_term'] = df_idrome_go.UniProt_ID.apply(lambda x: True if x in uniprots else False)\n",
    "    # Extract all uniprot code that are associated with the current GO code, then look back in df_idrome dataframe\n",
    "    # to extract the entanglement probability, convert to list.\n",
    "    GO_Yes = np.array(df_idrome_go[df_idrome_go['GO_term']==True]['ent_prob'].to_list())\n",
    "    GO_No = np.array(df_idrome_go[df_idrome_go['GO_term']==False]['ent_prob'].to_list())\n",
    "    ent_prob_GO_Yes.append(GO_Yes)\n",
    "    ent_prob_GO_No.append(GO_No)\n",
    "\n",
    "    statistic, pvalues = stats.brunnermunzel(GO_Yes, GO_No, alternative='two-sided')\n",
    "    es_mean, es_se, es_ci = bootstrapping_effect_size(GO_Yes, GO_No, nsteps=1)\n",
    "    \n",
    "    GO_terms.append(go)\n",
    "    GO_statistic.append(statistic)\n",
    "    effect_size.append(es_mean)\n",
    "    effect_size_se.append(es_se)\n",
    "    effect_size_cis.append(es_ci)\n",
    "    pvalue_go_term.append(pvalues/2.0)\n",
    "\n",
    "df_BM_analysis = pd.DataFrame({'GO':GO_terms, 'ent_prob_GO_Yes': ent_prob_GO_Yes, 'ent_prob_GO_No':ent_prob_GO_No, 'effect_size': effect_size, 'effect_size_se': effect_size_se, 'effect_size_CI':effect_size_cis, 'stats':GO_statistic, 'pvalue':pvalue_go_term})\n",
    "df_BM_analysis['adj_pvalue'] = stats.false_discovery_control(df_BM_analysis['pvalue'])\n",
    "for _, row in df_BM_analysis[df_BM_analysis['adj_pvalue']<=0.05].iterrows():\n",
    "    print(f\"{row['GO']}:{id_to_name[row['GO']]}, {row['adj_pvalue']:.3f}, stats: {row['stats']:.3f}, effect size: {row['effect_size']:.3f}+/-{row['effect_size_se']:.4f}, {row['effect_size_CI']}\")\n",
    "    \n",
    "\n",
    "# save to pickle file\n",
    "df_BM_analysis.to_pickle('cellcom.pkl')"
   ]
  },
  {
   "cell_type": "code",
   "execution_count": null,
   "id": "812cd288",
   "metadata": {},
   "outputs": [],
   "source": []
  }
 ],
 "metadata": {
  "kernelspec": {
   "display_name": "Python 3 (ipykernel)",
   "language": "python",
   "name": "python3"
  },
  "language_info": {
   "codemirror_mode": {
    "name": "ipython",
    "version": 3
   },
   "file_extension": ".py",
   "mimetype": "text/x-python",
   "name": "python",
   "nbconvert_exporter": "python",
   "pygments_lexer": "ipython3",
   "version": "3.11.9"
  }
 },
 "nbformat": 4,
 "nbformat_minor": 5
}
